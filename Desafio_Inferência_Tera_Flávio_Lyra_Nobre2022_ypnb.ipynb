{
  "nbformat": 4,
  "nbformat_minor": 0,
  "metadata": {
    "colab": {
      "name": "Desafio Inferência  Tera - Flávio Lyra Nobre2022.ypnb",
      "provenance": [],
      "collapsed_sections": []
    },
    "kernelspec": {
      "name": "python3",
      "display_name": "Python 3"
    },
    "language_info": {
      "name": "python"
    }
  },
  "cells": [
    {
      "cell_type": "markdown",
      "source": [
        "**Desafio Inferência Tera 2022**\n",
        "\n"
      ],
      "metadata": {
        "id": "QCTNQ2K-AYfE"
      }
    },
    {
      "cell_type": "code",
      "source": [
        "#importando biblioteca pandas\n",
        "#importando biblioteca numpy\n",
        "#importando biblioteca seaborn \n",
        "#importando biblioteca matplotlib \n",
        "#Instalando pacote Yahoo Financials\n",
        "#from yahoofinancials import YahooFinancials\n",
        "#https://books.google.com.br/books?id=qJXOOEF2i1wC&pg=PA51&dq=ARIMA&hl=pt-BR&sa=X&redir_esc=y#v=onepage&q=ARIMA&f=false\n",
        "#Existe uma correlação dolar x ouro?\n",
        "#criando um gráfico estatístico para visualização gráfica, representando um grupo de dados numéricos por meio de seus quartis\n",
        "#Este gráfico exibe o resumo do conjunto de dados contendo os cinco valores conhecidos como mínimo, \n",
        "#quartil 1, quartil 2 ou mediana, quartil 3 e máximo, onde a caixa é desenhada do primeiro quartil ao terceiro quartil.\n",
        "#Sintaxe: seaborn.stripplot (*, x = None, y = None, hue = None, data = None, order = None, hue_order = None, jitter = True, \n",
        "#dodge = False, orient = None, color = None, palette = Nenhum, tamanho = 5, edgecolor = 'cinza', largura de linha = 0, ax = Nenhum, ** kwargs)\n",
        "#E, fazendo a plotagem dos dados com Matplotlib e analisando suas autocorrelações\n",
        "#Parâmetros:\n",
        "\n",
        "#x, y, hue: Entradas para traçar dados de formato longo.\n",
        "#dados: Conjunto de dados para plotagem.\n",
        "#ordem: é a ordem para traçar os níveis categóricos.\n",
        "#cor: é a cor de todos os elementos ou a semente de uma paleta de gradiente.\n",
        "#Retorna: Este método retorna o objeto Axes com o gráfico desenhado nele."
      ],
      "metadata": {
        "id": "381f-ut7J3Ei"
      },
      "execution_count": null,
      "outputs": []
    },
    {
      "cell_type": "code",
      "source": [
        "!pip install yfinance\n",
        "!pip install yahoofinancials\n",
        "!pip install --upgrade pandas\n",
        "!pip install --upgrade pandas-datareader\n",
        "!pip install pmdarima"
      ],
      "metadata": {
        "colab": {
          "base_uri": "https://localhost:8080/"
        },
        "id": "x31Mfui2eXu2",
        "outputId": "102e8019-712d-4504-d212-b9942943e67d"
      },
      "execution_count": null,
      "outputs": [
        {
          "output_type": "stream",
          "name": "stdout",
          "text": [
            "Looking in indexes: https://pypi.org/simple, https://us-python.pkg.dev/colab-wheels/public/simple/\n",
            "Collecting yfinance\n",
            "  Downloading yfinance-0.1.70-py2.py3-none-any.whl (26 kB)\n",
            "Requirement already satisfied: numpy>=1.15 in /usr/local/lib/python3.7/dist-packages (from yfinance) (1.21.6)\n",
            "Requirement already satisfied: pandas>=0.24.0 in /usr/local/lib/python3.7/dist-packages (from yfinance) (1.3.5)\n",
            "Requirement already satisfied: multitasking>=0.0.7 in /usr/local/lib/python3.7/dist-packages (from yfinance) (0.0.10)\n",
            "Collecting requests>=2.26\n",
            "  Downloading requests-2.28.0-py3-none-any.whl (62 kB)\n",
            "\u001b[K     |████████████████████████████████| 62 kB 1.1 MB/s \n",
            "\u001b[?25hCollecting lxml>=4.5.1\n",
            "  Downloading lxml-4.9.0-cp37-cp37m-manylinux_2_17_x86_64.manylinux2014_x86_64.manylinux_2_24_x86_64.whl (6.4 MB)\n",
            "\u001b[K     |████████████████████████████████| 6.4 MB 8.5 MB/s \n",
            "\u001b[?25hRequirement already satisfied: pytz>=2017.3 in /usr/local/lib/python3.7/dist-packages (from pandas>=0.24.0->yfinance) (2022.1)\n",
            "Requirement already satisfied: python-dateutil>=2.7.3 in /usr/local/lib/python3.7/dist-packages (from pandas>=0.24.0->yfinance) (2.8.2)\n",
            "Requirement already satisfied: six>=1.5 in /usr/local/lib/python3.7/dist-packages (from python-dateutil>=2.7.3->pandas>=0.24.0->yfinance) (1.15.0)\n",
            "Requirement already satisfied: idna<4,>=2.5 in /usr/local/lib/python3.7/dist-packages (from requests>=2.26->yfinance) (2.10)\n",
            "Requirement already satisfied: certifi>=2017.4.17 in /usr/local/lib/python3.7/dist-packages (from requests>=2.26->yfinance) (2022.5.18.1)\n",
            "Requirement already satisfied: charset-normalizer~=2.0.0 in /usr/local/lib/python3.7/dist-packages (from requests>=2.26->yfinance) (2.0.12)\n",
            "Requirement already satisfied: urllib3<1.27,>=1.21.1 in /usr/local/lib/python3.7/dist-packages (from requests>=2.26->yfinance) (1.24.3)\n",
            "Installing collected packages: requests, lxml, yfinance\n",
            "  Attempting uninstall: requests\n",
            "    Found existing installation: requests 2.23.0\n",
            "    Uninstalling requests-2.23.0:\n",
            "      Successfully uninstalled requests-2.23.0\n",
            "  Attempting uninstall: lxml\n",
            "    Found existing installation: lxml 4.2.6\n",
            "    Uninstalling lxml-4.2.6:\n",
            "      Successfully uninstalled lxml-4.2.6\n",
            "\u001b[31mERROR: pip's dependency resolver does not currently take into account all the packages that are installed. This behaviour is the source of the following dependency conflicts.\n",
            "google-colab 1.0.0 requires requests~=2.23.0, but you have requests 2.28.0 which is incompatible.\n",
            "datascience 0.10.6 requires folium==0.2.1, but you have folium 0.8.3 which is incompatible.\u001b[0m\n",
            "Successfully installed lxml-4.9.0 requests-2.28.0 yfinance-0.1.70\n",
            "Looking in indexes: https://pypi.org/simple, https://us-python.pkg.dev/colab-wheels/public/simple/\n",
            "Collecting yahoofinancials\n",
            "  Downloading yahoofinancials-1.6.tar.gz (27 kB)\n",
            "Requirement already satisfied: beautifulsoup4 in /usr/local/lib/python3.7/dist-packages (from yahoofinancials) (4.6.3)\n",
            "Requirement already satisfied: pytz in /usr/local/lib/python3.7/dist-packages (from yahoofinancials) (2022.1)\n",
            "Building wheels for collected packages: yahoofinancials\n",
            "  Building wheel for yahoofinancials (setup.py) ... \u001b[?25l\u001b[?25hdone\n",
            "  Created wheel for yahoofinancials: filename=yahoofinancials-1.6-py3-none-any.whl size=15192 sha256=15bd9f0435757180e6c303d3929189d8904fed341efd5139352611d92332bd97\n",
            "  Stored in directory: /root/.cache/pip/wheels/4b/63/46/e7110bfee88685fe69e338d1b14d1748921862aa57b6705b60\n",
            "Successfully built yahoofinancials\n",
            "Installing collected packages: yahoofinancials\n",
            "Successfully installed yahoofinancials-1.6\n",
            "Looking in indexes: https://pypi.org/simple, https://us-python.pkg.dev/colab-wheels/public/simple/\n",
            "Requirement already satisfied: pandas in /usr/local/lib/python3.7/dist-packages (1.3.5)\n",
            "Requirement already satisfied: numpy>=1.17.3 in /usr/local/lib/python3.7/dist-packages (from pandas) (1.21.6)\n",
            "Requirement already satisfied: pytz>=2017.3 in /usr/local/lib/python3.7/dist-packages (from pandas) (2022.1)\n",
            "Requirement already satisfied: python-dateutil>=2.7.3 in /usr/local/lib/python3.7/dist-packages (from pandas) (2.8.2)\n",
            "Requirement already satisfied: six>=1.5 in /usr/local/lib/python3.7/dist-packages (from python-dateutil>=2.7.3->pandas) (1.15.0)\n",
            "Looking in indexes: https://pypi.org/simple, https://us-python.pkg.dev/colab-wheels/public/simple/\n",
            "Requirement already satisfied: pandas-datareader in /usr/local/lib/python3.7/dist-packages (0.9.0)\n",
            "Collecting pandas-datareader\n",
            "  Downloading pandas_datareader-0.10.0-py3-none-any.whl (109 kB)\n",
            "\u001b[K     |████████████████████████████████| 109 kB 4.2 MB/s \n",
            "\u001b[?25hRequirement already satisfied: lxml in /usr/local/lib/python3.7/dist-packages (from pandas-datareader) (4.9.0)\n",
            "Requirement already satisfied: pandas>=0.23 in /usr/local/lib/python3.7/dist-packages (from pandas-datareader) (1.3.5)\n",
            "Requirement already satisfied: requests>=2.19.0 in /usr/local/lib/python3.7/dist-packages (from pandas-datareader) (2.28.0)\n",
            "Requirement already satisfied: pytz>=2017.3 in /usr/local/lib/python3.7/dist-packages (from pandas>=0.23->pandas-datareader) (2022.1)\n",
            "Requirement already satisfied: numpy>=1.17.3 in /usr/local/lib/python3.7/dist-packages (from pandas>=0.23->pandas-datareader) (1.21.6)\n",
            "Requirement already satisfied: python-dateutil>=2.7.3 in /usr/local/lib/python3.7/dist-packages (from pandas>=0.23->pandas-datareader) (2.8.2)\n",
            "Requirement already satisfied: six>=1.5 in /usr/local/lib/python3.7/dist-packages (from python-dateutil>=2.7.3->pandas>=0.23->pandas-datareader) (1.15.0)\n",
            "Requirement already satisfied: charset-normalizer~=2.0.0 in /usr/local/lib/python3.7/dist-packages (from requests>=2.19.0->pandas-datareader) (2.0.12)\n",
            "Requirement already satisfied: urllib3<1.27,>=1.21.1 in /usr/local/lib/python3.7/dist-packages (from requests>=2.19.0->pandas-datareader) (1.24.3)\n",
            "Requirement already satisfied: idna<4,>=2.5 in /usr/local/lib/python3.7/dist-packages (from requests>=2.19.0->pandas-datareader) (2.10)\n",
            "Requirement already satisfied: certifi>=2017.4.17 in /usr/local/lib/python3.7/dist-packages (from requests>=2.19.0->pandas-datareader) (2022.5.18.1)\n",
            "Installing collected packages: pandas-datareader\n",
            "  Attempting uninstall: pandas-datareader\n",
            "    Found existing installation: pandas-datareader 0.9.0\n",
            "    Uninstalling pandas-datareader-0.9.0:\n",
            "      Successfully uninstalled pandas-datareader-0.9.0\n",
            "Successfully installed pandas-datareader-0.10.0\n",
            "Looking in indexes: https://pypi.org/simple, https://us-python.pkg.dev/colab-wheels/public/simple/\n",
            "Collecting pmdarima\n",
            "  Downloading pmdarima-1.8.5-cp37-cp37m-manylinux_2_17_x86_64.manylinux2014_x86_64.manylinux_2_24_x86_64.whl (1.4 MB)\n",
            "\u001b[K     |████████████████████████████████| 1.4 MB 4.4 MB/s \n",
            "\u001b[?25hRequirement already satisfied: urllib3 in /usr/local/lib/python3.7/dist-packages (from pmdarima) (1.24.3)\n",
            "Requirement already satisfied: setuptools!=50.0.0,>=38.6.0 in /usr/local/lib/python3.7/dist-packages (from pmdarima) (57.4.0)\n",
            "Requirement already satisfied: joblib>=0.11 in /usr/local/lib/python3.7/dist-packages (from pmdarima) (1.1.0)\n",
            "Requirement already satisfied: pandas>=0.19 in /usr/local/lib/python3.7/dist-packages (from pmdarima) (1.3.5)\n",
            "Requirement already satisfied: scipy>=1.3.2 in /usr/local/lib/python3.7/dist-packages (from pmdarima) (1.4.1)\n",
            "Requirement already satisfied: Cython!=0.29.18,>=0.29 in /usr/local/lib/python3.7/dist-packages (from pmdarima) (0.29.30)\n",
            "Requirement already satisfied: numpy>=1.19.3 in /usr/local/lib/python3.7/dist-packages (from pmdarima) (1.21.6)\n",
            "Requirement already satisfied: scikit-learn>=0.22 in /usr/local/lib/python3.7/dist-packages (from pmdarima) (1.0.2)\n",
            "Collecting statsmodels!=0.12.0,>=0.11\n",
            "  Downloading statsmodels-0.13.2-cp37-cp37m-manylinux_2_17_x86_64.manylinux2014_x86_64.whl (9.8 MB)\n",
            "\u001b[K     |████████████████████████████████| 9.8 MB 33.8 MB/s \n",
            "\u001b[?25hRequirement already satisfied: pytz>=2017.3 in /usr/local/lib/python3.7/dist-packages (from pandas>=0.19->pmdarima) (2022.1)\n",
            "Requirement already satisfied: python-dateutil>=2.7.3 in /usr/local/lib/python3.7/dist-packages (from pandas>=0.19->pmdarima) (2.8.2)\n",
            "Requirement already satisfied: six>=1.5 in /usr/local/lib/python3.7/dist-packages (from python-dateutil>=2.7.3->pandas>=0.19->pmdarima) (1.15.0)\n",
            "Requirement already satisfied: threadpoolctl>=2.0.0 in /usr/local/lib/python3.7/dist-packages (from scikit-learn>=0.22->pmdarima) (3.1.0)\n",
            "Requirement already satisfied: packaging>=21.3 in /usr/local/lib/python3.7/dist-packages (from statsmodels!=0.12.0,>=0.11->pmdarima) (21.3)\n",
            "Requirement already satisfied: patsy>=0.5.2 in /usr/local/lib/python3.7/dist-packages (from statsmodels!=0.12.0,>=0.11->pmdarima) (0.5.2)\n",
            "Requirement already satisfied: pyparsing!=3.0.5,>=2.0.2 in /usr/local/lib/python3.7/dist-packages (from packaging>=21.3->statsmodels!=0.12.0,>=0.11->pmdarima) (3.0.9)\n",
            "Installing collected packages: statsmodels, pmdarima\n",
            "  Attempting uninstall: statsmodels\n",
            "    Found existing installation: statsmodels 0.10.2\n",
            "    Uninstalling statsmodels-0.10.2:\n",
            "      Successfully uninstalled statsmodels-0.10.2\n",
            "Successfully installed pmdarima-1.8.5 statsmodels-0.13.2\n"
          ]
        }
      ]
    },
    {
      "cell_type": "code",
      "source": [
        "import pandas as pd\n",
        "import numpy as np\n",
        "import matplotlib.pyplot as plt\n",
        "import seaborn as sns\n",
        "import plotly.express as px\n",
        "%matplotlib inline\n",
        "from pandas_datareader import data\n",
        "import yfinance as yf\n",
        "#from statsmodels.tsa.arima_model import ARIMA\n",
        "from statsmodels.tsa.arima.model import ARIMA\n",
        "from pmdarima.arima import auto_arima\n",
        "from pmdarima.model_selection import train_test_split\n",
        "from statsmodels.tsa.api import ExponentialSmoothing,SimpleExpSmoothing, Holt\n",
        "from sklearn.metrics import mean_squared_error\n",
        "from sklearn.linear_model import LinearRegression\n",
        "from sklearn import linear_model\n",
        "from fbprophet import Prophet\n",
        "from pandas import to_datetime\n",
        "from statsmodels.tsa.stattools import adfuller, kpss\n",
        "from statsmodels.graphics.tsaplots import plot_acf, plot_pacf\n",
        "from sklearn.model_selection import TimeSeriesSplit\n",
        "import warnings\n",
        "import datetime\n",
        "from datetime import datetime\n",
        "warnings.filterwarnings('ignore')\n"
      ],
      "metadata": {
        "id": "_Wb9_DTbfeL8"
      },
      "execution_count": null,
      "outputs": []
    },
    {
      "cell_type": "code",
      "source": [
        "rypto = yf.download(\"BTC-USD\", start='2014-01-01', end='2022-04-30')\n",
        "ouro =  yf.download(\"GC=F\", start='2014-01-01', end='2022-04-30')\n",
        "dolar = yf.download('DX=F', start='2014-01-01', end='2022-04-30')"
      ],
      "metadata": {
        "colab": {
          "base_uri": "https://localhost:8080/"
        },
        "id": "wdsdilWcfjI0",
        "outputId": "52bf2dae-488f-4c0d-ff67-667f24ce9539"
      },
      "execution_count": null,
      "outputs": [
        {
          "output_type": "stream",
          "name": "stdout",
          "text": [
            "[*********************100%***********************]  1 of 1 completed\n",
            "[*********************100%***********************]  1 of 1 completed\n",
            "[*********************100%***********************]  1 of 1 completed\n"
          ]
        }
      ]
    },
    {
      "cell_type": "markdown",
      "source": [
        "**ANÁLISE EXPLORATÓRIA DE DADOS** "
      ],
      "metadata": {
        "id": "FkwEl5wnfrIs"
      }
    },
    {
      "cell_type": "markdown",
      "source": [
        "°**OURO, DÓLAR - USD**"
      ],
      "metadata": {
        "id": "FXYcBPX7gS7T"
      }
    },
    {
      "cell_type": "code",
      "source": [
        "#Análise do Ouro GC=F"
      ],
      "metadata": {
        "id": "D5NNORtPgnsS"
      },
      "execution_count": null,
      "outputs": []
    },
    {
      "cell_type": "code",
      "source": [
        "ouro.index"
      ],
      "metadata": {
        "colab": {
          "base_uri": "https://localhost:8080/"
        },
        "id": "3U_MN9__gbTE",
        "outputId": "8a3f14d3-3ac1-43c4-88f2-c1835624de1c"
      },
      "execution_count": null,
      "outputs": [
        {
          "output_type": "execute_result",
          "data": {
            "text/plain": [
              "DatetimeIndex(['2014-01-02', '2014-01-03', '2014-01-06', '2014-01-07',\n",
              "               '2014-01-08', '2014-01-09', '2014-01-10', '2014-01-13',\n",
              "               '2014-01-14', '2014-01-15',\n",
              "               ...\n",
              "               '2022-04-18', '2022-04-19', '2022-04-20', '2022-04-21',\n",
              "               '2022-04-22', '2022-04-25', '2022-04-26', '2022-04-27',\n",
              "               '2022-04-28', '2022-04-29'],\n",
              "              dtype='datetime64[ns]', name='Date', length=2095, freq=None)"
            ]
          },
          "metadata": {},
          "execution_count": 6
        }
      ]
    },
    {
      "cell_type": "code",
      "source": [
        "#Análise do Dólar DX=F"
      ],
      "metadata": {
        "id": "g72DMnHtgjTC"
      },
      "execution_count": null,
      "outputs": []
    },
    {
      "cell_type": "code",
      "source": [
        "dolar.info()"
      ],
      "metadata": {
        "colab": {
          "base_uri": "https://localhost:8080/"
        },
        "id": "Q1DTG-FegXiH",
        "outputId": "f7be1fd7-4d0e-4c37-b7f4-42e8388d0315"
      },
      "execution_count": null,
      "outputs": [
        {
          "output_type": "stream",
          "name": "stdout",
          "text": [
            "<class 'pandas.core.frame.DataFrame'>\n",
            "DatetimeIndex: 2094 entries, 2014-01-02 to 2022-04-29\n",
            "Data columns (total 6 columns):\n",
            " #   Column     Non-Null Count  Dtype  \n",
            "---  ------     --------------  -----  \n",
            " 0   Open       2094 non-null   float64\n",
            " 1   High       2094 non-null   float64\n",
            " 2   Low        2094 non-null   float64\n",
            " 3   Close      2094 non-null   float64\n",
            " 4   Adj Close  2094 non-null   float64\n",
            " 5   Volume     2094 non-null   int64  \n",
            "dtypes: float64(5), int64(1)\n",
            "memory usage: 114.5 KB\n"
          ]
        }
      ]
    },
    {
      "cell_type": "code",
      "source": [
        "acoes_df = ouro.copy()"
      ],
      "metadata": {
        "id": "F_4GFw3c_xZ3"
      },
      "execution_count": null,
      "outputs": []
    },
    {
      "cell_type": "code",
      "source": [
        "#Analisando ações - USD"
      ],
      "metadata": {
        "id": "eJSH65BQht6L"
      },
      "execution_count": null,
      "outputs": []
    },
    {
      "cell_type": "code",
      "source": [
        "#Ouro\n",
        "acoes_df['ouro_open']       = ouro['Open']\n",
        "acoes_df['ouro_high']       = ouro['High']\n",
        "acoes_df['ouro_low']        = ouro['Low']\n",
        "acoes_df['ouro_close']      = ouro['Close']\n",
        "acoes_df['ouro_adj_close']  = ouro['Adj Close']\n",
        "acoes_df['ouro_volume']     = ouro['Volume']\n",
        "\n",
        "#Dolar\n",
        "acoes_df['dolar_open']      = dolar['Open']\n",
        "acoes_df['dolar_high']      = dolar['High']\n",
        "acoes_df['dolar_low']       = dolar['Low']\n",
        "acoes_df['dolar_close']     = dolar['Close']\n",
        "acoes_df['dolar_adj_close'] = dolar['Adj Close']\n",
        "acoes_df['dolar_volume']    = dolar['Volume']"
      ],
      "metadata": {
        "id": "0soxjngWiNgj"
      },
      "execution_count": null,
      "outputs": []
    },
    {
      "cell_type": "code",
      "source": [
        "acoes_df.index"
      ],
      "metadata": {
        "colab": {
          "base_uri": "https://localhost:8080/"
        },
        "id": "4KBmYtXqiDfz",
        "outputId": "8c8f4310-fbbe-481e-9324-281362c3953c"
      },
      "execution_count": null,
      "outputs": [
        {
          "output_type": "execute_result",
          "data": {
            "text/plain": [
              "DatetimeIndex(['2014-01-02', '2014-01-03', '2014-01-06', '2014-01-07',\n",
              "               '2014-01-08', '2014-01-09', '2014-01-10', '2014-01-13',\n",
              "               '2014-01-14', '2014-01-15',\n",
              "               ...\n",
              "               '2022-04-18', '2022-04-19', '2022-04-20', '2022-04-21',\n",
              "               '2022-04-22', '2022-04-25', '2022-04-26', '2022-04-27',\n",
              "               '2022-04-28', '2022-04-29'],\n",
              "              dtype='datetime64[ns]', name='Date', length=2095, freq=None)"
            ]
          },
          "metadata": {},
          "execution_count": 20
        }
      ]
    },
    {
      "cell_type": "code",
      "source": [
        "acoes_df.drop(['Open', 'High', 'Low', 'Close', 'Volume', 'Adj Close'], axis=1, inplace=True)"
      ],
      "metadata": {
        "id": "nDgPpNVLjNka"
      },
      "execution_count": null,
      "outputs": []
    },
    {
      "cell_type": "code",
      "source": [
        "acoes_df = acoes_df['2014-09-17':]\n",
        "acoes_df"
      ],
      "metadata": {
        "colab": {
          "base_uri": "https://localhost:8080/",
          "height": 455
        },
        "id": "UfgFnmByjRxn",
        "outputId": "13e05d84-f44b-40ea-c12b-2f86a6db2d61"
      },
      "execution_count": null,
      "outputs": [
        {
          "output_type": "execute_result",
          "data": {
            "text/plain": [
              "              ouro_open    ouro_high     ouro_low   ouro_close  \\\n",
              "Date                                                             \n",
              "2014-09-17  1236.199951  1236.199951  1221.900024  1234.400024   \n",
              "2014-09-18  1216.199951  1225.699951  1216.199951  1225.699951   \n",
              "2014-09-19  1218.300049  1218.300049  1215.300049  1215.300049   \n",
              "2014-09-22  1214.900024  1216.800049  1212.400024  1216.800049   \n",
              "2014-09-23  1221.000000  1221.000000  1221.000000  1221.000000   \n",
              "...                 ...          ...          ...          ...   \n",
              "2022-04-25  1925.000000  1925.000000  1889.300049  1893.199951   \n",
              "2022-04-26  1900.500000  1909.099976  1894.000000  1901.400024   \n",
              "2022-04-27  1897.800049  1900.599976  1882.199951  1885.900024   \n",
              "2022-04-28  1883.800049  1893.000000  1872.900024  1888.699951   \n",
              "2022-04-29  1902.699951  1918.199951  1902.400024  1909.300049   \n",
              "\n",
              "            ouro_adj_close  ouro_volume  dolar_open  dolar_high   dolar_low  \\\n",
              "Date                                                                          \n",
              "2014-09-17     1234.400024           10   84.235001   84.860001   84.074997   \n",
              "2014-09-18     1225.699951            5   84.864998   84.900002   84.339996   \n",
              "2014-09-19     1215.300049            4   84.370003   84.934998   84.334999   \n",
              "2014-09-22     1216.800049            7   84.930000   84.974998   84.644997   \n",
              "2014-09-23     1221.000000            5   84.805000   84.875000   84.459999   \n",
              "...                    ...          ...         ...         ...         ...   \n",
              "2022-04-25     1893.199951          748  101.105003  101.864998  101.050003   \n",
              "2022-04-26     1901.400024          302  101.705002  102.370003  101.535004   \n",
              "2022-04-27     1885.900024         1786  102.330002  103.290001  102.239998   \n",
              "2022-04-28     1888.699951          513  103.025002  103.949997  103.010002   \n",
              "2022-04-29     1909.300049          132  103.684998  103.684998  102.809998   \n",
              "\n",
              "            dolar_close  dolar_adj_close  dolar_volume  \n",
              "Date                                                    \n",
              "2014-09-17    84.486000        84.486000       66612.0  \n",
              "2014-09-18    84.430000        84.430000       32280.0  \n",
              "2014-09-19    84.864998        84.864998       37092.0  \n",
              "2014-09-22    84.862999        84.862999       18199.0  \n",
              "2014-09-23    84.778999        84.778999       24751.0  \n",
              "...                 ...              ...           ...  \n",
              "2022-04-25   101.768997       101.768997       19568.0  \n",
              "2022-04-26   102.318001       102.318001       23219.0  \n",
              "2022-04-27   102.962997       102.962997       37470.0  \n",
              "2022-04-28   103.658997       103.658997       54107.0  \n",
              "2022-04-29   102.962997       102.962997       43620.0  \n",
              "\n",
              "[1917 rows x 12 columns]"
            ],
            "text/html": [
              "\n",
              "  <div id=\"df-798b18cf-afc9-4184-8042-2be0357c68a3\">\n",
              "    <div class=\"colab-df-container\">\n",
              "      <div>\n",
              "<style scoped>\n",
              "    .dataframe tbody tr th:only-of-type {\n",
              "        vertical-align: middle;\n",
              "    }\n",
              "\n",
              "    .dataframe tbody tr th {\n",
              "        vertical-align: top;\n",
              "    }\n",
              "\n",
              "    .dataframe thead th {\n",
              "        text-align: right;\n",
              "    }\n",
              "</style>\n",
              "<table border=\"1\" class=\"dataframe\">\n",
              "  <thead>\n",
              "    <tr style=\"text-align: right;\">\n",
              "      <th></th>\n",
              "      <th>ouro_open</th>\n",
              "      <th>ouro_high</th>\n",
              "      <th>ouro_low</th>\n",
              "      <th>ouro_close</th>\n",
              "      <th>ouro_adj_close</th>\n",
              "      <th>ouro_volume</th>\n",
              "      <th>dolar_open</th>\n",
              "      <th>dolar_high</th>\n",
              "      <th>dolar_low</th>\n",
              "      <th>dolar_close</th>\n",
              "      <th>dolar_adj_close</th>\n",
              "      <th>dolar_volume</th>\n",
              "    </tr>\n",
              "    <tr>\n",
              "      <th>Date</th>\n",
              "      <th></th>\n",
              "      <th></th>\n",
              "      <th></th>\n",
              "      <th></th>\n",
              "      <th></th>\n",
              "      <th></th>\n",
              "      <th></th>\n",
              "      <th></th>\n",
              "      <th></th>\n",
              "      <th></th>\n",
              "      <th></th>\n",
              "      <th></th>\n",
              "    </tr>\n",
              "  </thead>\n",
              "  <tbody>\n",
              "    <tr>\n",
              "      <th>2014-09-17</th>\n",
              "      <td>1236.199951</td>\n",
              "      <td>1236.199951</td>\n",
              "      <td>1221.900024</td>\n",
              "      <td>1234.400024</td>\n",
              "      <td>1234.400024</td>\n",
              "      <td>10</td>\n",
              "      <td>84.235001</td>\n",
              "      <td>84.860001</td>\n",
              "      <td>84.074997</td>\n",
              "      <td>84.486000</td>\n",
              "      <td>84.486000</td>\n",
              "      <td>66612.0</td>\n",
              "    </tr>\n",
              "    <tr>\n",
              "      <th>2014-09-18</th>\n",
              "      <td>1216.199951</td>\n",
              "      <td>1225.699951</td>\n",
              "      <td>1216.199951</td>\n",
              "      <td>1225.699951</td>\n",
              "      <td>1225.699951</td>\n",
              "      <td>5</td>\n",
              "      <td>84.864998</td>\n",
              "      <td>84.900002</td>\n",
              "      <td>84.339996</td>\n",
              "      <td>84.430000</td>\n",
              "      <td>84.430000</td>\n",
              "      <td>32280.0</td>\n",
              "    </tr>\n",
              "    <tr>\n",
              "      <th>2014-09-19</th>\n",
              "      <td>1218.300049</td>\n",
              "      <td>1218.300049</td>\n",
              "      <td>1215.300049</td>\n",
              "      <td>1215.300049</td>\n",
              "      <td>1215.300049</td>\n",
              "      <td>4</td>\n",
              "      <td>84.370003</td>\n",
              "      <td>84.934998</td>\n",
              "      <td>84.334999</td>\n",
              "      <td>84.864998</td>\n",
              "      <td>84.864998</td>\n",
              "      <td>37092.0</td>\n",
              "    </tr>\n",
              "    <tr>\n",
              "      <th>2014-09-22</th>\n",
              "      <td>1214.900024</td>\n",
              "      <td>1216.800049</td>\n",
              "      <td>1212.400024</td>\n",
              "      <td>1216.800049</td>\n",
              "      <td>1216.800049</td>\n",
              "      <td>7</td>\n",
              "      <td>84.930000</td>\n",
              "      <td>84.974998</td>\n",
              "      <td>84.644997</td>\n",
              "      <td>84.862999</td>\n",
              "      <td>84.862999</td>\n",
              "      <td>18199.0</td>\n",
              "    </tr>\n",
              "    <tr>\n",
              "      <th>2014-09-23</th>\n",
              "      <td>1221.000000</td>\n",
              "      <td>1221.000000</td>\n",
              "      <td>1221.000000</td>\n",
              "      <td>1221.000000</td>\n",
              "      <td>1221.000000</td>\n",
              "      <td>5</td>\n",
              "      <td>84.805000</td>\n",
              "      <td>84.875000</td>\n",
              "      <td>84.459999</td>\n",
              "      <td>84.778999</td>\n",
              "      <td>84.778999</td>\n",
              "      <td>24751.0</td>\n",
              "    </tr>\n",
              "    <tr>\n",
              "      <th>...</th>\n",
              "      <td>...</td>\n",
              "      <td>...</td>\n",
              "      <td>...</td>\n",
              "      <td>...</td>\n",
              "      <td>...</td>\n",
              "      <td>...</td>\n",
              "      <td>...</td>\n",
              "      <td>...</td>\n",
              "      <td>...</td>\n",
              "      <td>...</td>\n",
              "      <td>...</td>\n",
              "      <td>...</td>\n",
              "    </tr>\n",
              "    <tr>\n",
              "      <th>2022-04-25</th>\n",
              "      <td>1925.000000</td>\n",
              "      <td>1925.000000</td>\n",
              "      <td>1889.300049</td>\n",
              "      <td>1893.199951</td>\n",
              "      <td>1893.199951</td>\n",
              "      <td>748</td>\n",
              "      <td>101.105003</td>\n",
              "      <td>101.864998</td>\n",
              "      <td>101.050003</td>\n",
              "      <td>101.768997</td>\n",
              "      <td>101.768997</td>\n",
              "      <td>19568.0</td>\n",
              "    </tr>\n",
              "    <tr>\n",
              "      <th>2022-04-26</th>\n",
              "      <td>1900.500000</td>\n",
              "      <td>1909.099976</td>\n",
              "      <td>1894.000000</td>\n",
              "      <td>1901.400024</td>\n",
              "      <td>1901.400024</td>\n",
              "      <td>302</td>\n",
              "      <td>101.705002</td>\n",
              "      <td>102.370003</td>\n",
              "      <td>101.535004</td>\n",
              "      <td>102.318001</td>\n",
              "      <td>102.318001</td>\n",
              "      <td>23219.0</td>\n",
              "    </tr>\n",
              "    <tr>\n",
              "      <th>2022-04-27</th>\n",
              "      <td>1897.800049</td>\n",
              "      <td>1900.599976</td>\n",
              "      <td>1882.199951</td>\n",
              "      <td>1885.900024</td>\n",
              "      <td>1885.900024</td>\n",
              "      <td>1786</td>\n",
              "      <td>102.330002</td>\n",
              "      <td>103.290001</td>\n",
              "      <td>102.239998</td>\n",
              "      <td>102.962997</td>\n",
              "      <td>102.962997</td>\n",
              "      <td>37470.0</td>\n",
              "    </tr>\n",
              "    <tr>\n",
              "      <th>2022-04-28</th>\n",
              "      <td>1883.800049</td>\n",
              "      <td>1893.000000</td>\n",
              "      <td>1872.900024</td>\n",
              "      <td>1888.699951</td>\n",
              "      <td>1888.699951</td>\n",
              "      <td>513</td>\n",
              "      <td>103.025002</td>\n",
              "      <td>103.949997</td>\n",
              "      <td>103.010002</td>\n",
              "      <td>103.658997</td>\n",
              "      <td>103.658997</td>\n",
              "      <td>54107.0</td>\n",
              "    </tr>\n",
              "    <tr>\n",
              "      <th>2022-04-29</th>\n",
              "      <td>1902.699951</td>\n",
              "      <td>1918.199951</td>\n",
              "      <td>1902.400024</td>\n",
              "      <td>1909.300049</td>\n",
              "      <td>1909.300049</td>\n",
              "      <td>132</td>\n",
              "      <td>103.684998</td>\n",
              "      <td>103.684998</td>\n",
              "      <td>102.809998</td>\n",
              "      <td>102.962997</td>\n",
              "      <td>102.962997</td>\n",
              "      <td>43620.0</td>\n",
              "    </tr>\n",
              "  </tbody>\n",
              "</table>\n",
              "<p>1917 rows × 12 columns</p>\n",
              "</div>\n",
              "      <button class=\"colab-df-convert\" onclick=\"convertToInteractive('df-798b18cf-afc9-4184-8042-2be0357c68a3')\"\n",
              "              title=\"Convert this dataframe to an interactive table.\"\n",
              "              style=\"display:none;\">\n",
              "        \n",
              "  <svg xmlns=\"http://www.w3.org/2000/svg\" height=\"24px\"viewBox=\"0 0 24 24\"\n",
              "       width=\"24px\">\n",
              "    <path d=\"M0 0h24v24H0V0z\" fill=\"none\"/>\n",
              "    <path d=\"M18.56 5.44l.94 2.06.94-2.06 2.06-.94-2.06-.94-.94-2.06-.94 2.06-2.06.94zm-11 1L8.5 8.5l.94-2.06 2.06-.94-2.06-.94L8.5 2.5l-.94 2.06-2.06.94zm10 10l.94 2.06.94-2.06 2.06-.94-2.06-.94-.94-2.06-.94 2.06-2.06.94z\"/><path d=\"M17.41 7.96l-1.37-1.37c-.4-.4-.92-.59-1.43-.59-.52 0-1.04.2-1.43.59L10.3 9.45l-7.72 7.72c-.78.78-.78 2.05 0 2.83L4 21.41c.39.39.9.59 1.41.59.51 0 1.02-.2 1.41-.59l7.78-7.78 2.81-2.81c.8-.78.8-2.07 0-2.86zM5.41 20L4 18.59l7.72-7.72 1.47 1.35L5.41 20z\"/>\n",
              "  </svg>\n",
              "      </button>\n",
              "      \n",
              "  <style>\n",
              "    .colab-df-container {\n",
              "      display:flex;\n",
              "      flex-wrap:wrap;\n",
              "      gap: 12px;\n",
              "    }\n",
              "\n",
              "    .colab-df-convert {\n",
              "      background-color: #E8F0FE;\n",
              "      border: none;\n",
              "      border-radius: 50%;\n",
              "      cursor: pointer;\n",
              "      display: none;\n",
              "      fill: #1967D2;\n",
              "      height: 32px;\n",
              "      padding: 0 0 0 0;\n",
              "      width: 32px;\n",
              "    }\n",
              "\n",
              "    .colab-df-convert:hover {\n",
              "      background-color: #E2EBFA;\n",
              "      box-shadow: 0px 1px 2px rgba(60, 64, 67, 0.3), 0px 1px 3px 1px rgba(60, 64, 67, 0.15);\n",
              "      fill: #174EA6;\n",
              "    }\n",
              "\n",
              "    [theme=dark] .colab-df-convert {\n",
              "      background-color: #3B4455;\n",
              "      fill: #D2E3FC;\n",
              "    }\n",
              "\n",
              "    [theme=dark] .colab-df-convert:hover {\n",
              "      background-color: #434B5C;\n",
              "      box-shadow: 0px 1px 3px 1px rgba(0, 0, 0, 0.15);\n",
              "      filter: drop-shadow(0px 1px 2px rgba(0, 0, 0, 0.3));\n",
              "      fill: #FFFFFF;\n",
              "    }\n",
              "  </style>\n",
              "\n",
              "      <script>\n",
              "        const buttonEl =\n",
              "          document.querySelector('#df-798b18cf-afc9-4184-8042-2be0357c68a3 button.colab-df-convert');\n",
              "        buttonEl.style.display =\n",
              "          google.colab.kernel.accessAllowed ? 'block' : 'none';\n",
              "\n",
              "        async function convertToInteractive(key) {\n",
              "          const element = document.querySelector('#df-798b18cf-afc9-4184-8042-2be0357c68a3');\n",
              "          const dataTable =\n",
              "            await google.colab.kernel.invokeFunction('convertToInteractive',\n",
              "                                                     [key], {});\n",
              "          if (!dataTable) return;\n",
              "\n",
              "          const docLinkHtml = 'Like what you see? Visit the ' +\n",
              "            '<a target=\"_blank\" href=https://colab.research.google.com/notebooks/data_table.ipynb>data table notebook</a>'\n",
              "            + ' to learn more about interactive tables.';\n",
              "          element.innerHTML = '';\n",
              "          dataTable['output_type'] = 'display_data';\n",
              "          await google.colab.output.renderOutput(dataTable, element);\n",
              "          const docLink = document.createElement('div');\n",
              "          docLink.innerHTML = docLinkHtml;\n",
              "          element.appendChild(docLink);\n",
              "        }\n",
              "      </script>\n",
              "    </div>\n",
              "  </div>\n",
              "  "
            ]
          },
          "metadata": {},
          "execution_count": 22
        }
      ]
    },
    {
      "cell_type": "code",
      "source": [
        "# verificando se há valores faltantes\n",
        "acoes_df.isnull().sum()"
      ],
      "metadata": {
        "colab": {
          "base_uri": "https://localhost:8080/"
        },
        "id": "TturxQ3xjbky",
        "outputId": "626ab6b1-37bd-49ca-c874-5fdb0c39d9ab"
      },
      "execution_count": null,
      "outputs": [
        {
          "output_type": "execute_result",
          "data": {
            "text/plain": [
              "ouro_open          0\n",
              "ouro_high          0\n",
              "ouro_low           0\n",
              "ouro_close         0\n",
              "ouro_adj_close     0\n",
              "ouro_volume        0\n",
              "dolar_open         1\n",
              "dolar_high         1\n",
              "dolar_low          1\n",
              "dolar_close        1\n",
              "dolar_adj_close    1\n",
              "dolar_volume       1\n",
              "dtype: int64"
            ]
          },
          "metadata": {},
          "execution_count": 23
        }
      ]
    },
    {
      "cell_type": "markdown",
      "source": [
        "**Box Plot é um gráfico estatístico para visualização gráfica, representando um grupo de dados numéricos por meio de seus quartis.**"
      ],
      "metadata": {
        "id": "xUOzoBmd4f2_"
      }
    },
    {
      "cell_type": "code",
      "source": [
        "import seaborn as sns \n",
        "import matplotlib.pyplot as plt \n",
        "tdata = sns.load_dataset('tips') \n",
        "sns.boxplot(x='size', y='tip', data=tdata) \n",
        "plt.show() "
      ],
      "metadata": {
        "colab": {
          "base_uri": "https://localhost:8080/",
          "height": 279
        },
        "id": "GR6KC3Lb4TDE",
        "outputId": "847bd1c9-307e-464c-d135-a94686d25dee"
      },
      "execution_count": null,
      "outputs": [
        {
          "output_type": "display_data",
          "data": {
            "text/plain": [
              "<Figure size 432x288 with 1 Axes>"
            ],
            "image/png": "[encoded data removed]"
          },
          "metadata": {
            "needs_background": "light"
          }
        }
      ]
    },
    {
      "cell_type": "code",
      "source": [
        "import seaborn as sns \n",
        "import matplotlib.pyplot as plt \n",
        "tdata = sns.load_dataset('tips') \n",
        "sns.boxplot(x='size', y='tip', data=tdata) \n",
        "sns.stripplot(x='size', y='tip', data=tdata) \n",
        "plt.show() "
      ],
      "metadata": {
        "colab": {
          "base_uri": "https://localhost:8080/",
          "height": 279
        },
        "id": "OGFP-C4u4ZoT",
        "outputId": "be6a28b7-6a2d-4fbb-a79f-0597e1a8ac3b"
      },
      "execution_count": null,
      "outputs": [
        {
          "output_type": "display_data",
          "data": {
            "text/plain": [
              "<Figure size 432x288 with 1 Axes>"
            ],
            "image/png": "[encoded data removed]"
          },
          "metadata": {
            "needs_background": "light"
          }
        }
      ]
    }
  ]
}